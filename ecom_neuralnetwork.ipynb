{
 "cells": [
  {
   "cell_type": "markdown",
   "metadata": {},
   "source": [
    "Project 2 - Part 1\n",
    "INFOTC 3040\n",
    "Binary Classification Neural Network"
   ]
  },
  {
   "cell_type": "markdown",
   "metadata": {},
   "source": [
    "Import modules"
   ]
  },
  {
   "cell_type": "code",
   "execution_count": 9,
   "metadata": {},
   "outputs": [],
   "source": [
    "import numpy as np\n",
    "import math\n",
    "import pandas as pd\n",
    "\n",
    "import tensorflow as tf\n",
    "from tensorflow.keras.models import Sequential\n",
    "from tensorflow.keras.layers import Dense\n",
    "from tensorflow.keras.optimizers import Adam\n",
    "from tensorflow.keras.activations import linear, relu, sigmoid\n",
    "from tensorflow.keras.regularizers import l2\n",
    "\n",
    "from sklearn.metrics import precision_score, recall_score, f1_score, confusion_matrix\n",
    "from sklearn.preprocessing import StandardScaler\n",
    "from sklearn.model_selection import train_test_split\n",
    "\n",
    "\n",
    "import matplotlib.pyplot as plt"
   ]
  },
  {
   "cell_type": "markdown",
   "metadata": {},
   "source": [
    "Load Data File using pandas"
   ]
  },
  {
   "cell_type": "code",
   "execution_count": 10,
   "metadata": {},
   "outputs": [],
   "source": [
    "def loadData(filename):\n",
    "    return pd.read_excel(filename)\n",
    "\n",
    "rawShoppingData = loadData(\"shopping_data.xlsx\")"
   ]
  },
  {
   "cell_type": "markdown",
   "metadata": {},
   "source": [
    "Convert all of the data to number format"
   ]
  },
  {
   "cell_type": "code",
   "execution_count": 11,
   "metadata": {},
   "outputs": [],
   "source": [
    "stringConverter = {\n",
    "    \"Month\": {\n",
    "        \"Jan\": 1,\n",
    "        \"Feb\": 2,\n",
    "        \"Mar\": 3,\n",
    "        \"Apr\": 4,\n",
    "        \"May\": 5,\n",
    "        \"June\": 6,\n",
    "        \"Jul\": 7,\n",
    "        \"Aug\": 8,\n",
    "        \"Sep\": 9,\n",
    "        \"Oct\": 10,\n",
    "        \"Nov\": 11,\n",
    "        \"Dec\": 12\n",
    "    },\n",
    "\n",
    "    \"VisitorType\": {\n",
    "        \"New_Visitor\": 2,\n",
    "        \"Returning_Visitor\": 1,\n",
    "        \"Other\": 3\n",
    "    }\n",
    "}\n",
    "\n",
    "def cleanData(data):\n",
    "    data['Month'] = data['Month'].map(stringConverter['Month']) \n",
    "    data['VisitorType'] = data['VisitorType'].map(stringConverter['VisitorType'])\n",
    "\n",
    "    data['Weekend'] = data['Weekend'].astype(int)\n",
    "    data['Revenue'] = data['Revenue'].astype(int)\n",
    "\n",
    "    return data\n",
    "\n",
    "\n",
    "cleanShoppingData = cleanData(rawShoppingData)"
   ]
  },
  {
   "cell_type": "markdown",
   "metadata": {},
   "source": [
    "Scale the data using StandardScalar from scikit which is equivalent to Z-Score scaling"
   ]
  },
  {
   "cell_type": "code",
   "execution_count": 12,
   "metadata": {},
   "outputs": [],
   "source": [
    "X = cleanShoppingData.iloc[:, :-1]  # All columns except the last one\n",
    "y = cleanShoppingData.iloc[:, -1]   # The last column (Revenue)\n",
    "\n",
    "scaler = StandardScaler()\n",
    "X_scaled = scaler.fit_transform(X)"
   ]
  },
  {
   "cell_type": "markdown",
   "metadata": {},
   "source": [
    "Split the data into 60:20:20 using the train_test_split method from scikit"
   ]
  },
  {
   "cell_type": "code",
   "execution_count": 13,
   "metadata": {},
   "outputs": [
    {
     "name": "stdout",
     "output_type": "stream",
     "text": [
      "Training set: (3000, 17), (3000,)\n",
      "Validation set: (1000, 17), (1000,)\n",
      "Test set: (1000, 17), (1000,)\n"
     ]
    }
   ],
   "source": [
    "X_train, X_temp, y_train, y_temp = train_test_split(X_scaled, y, test_size=0.4, random_state=42) \n",
    "X_cv, X_test, y_cv, y_test = train_test_split(X_temp, y_temp, test_size=0.5, random_state=23)\n",
    "\n",
    "# Print the shapes of the split datat to confirm no errors\n",
    "print(f\"Training set: {X_train.shape}, {y_train.shape}\")\n",
    "print(f\"Validation set: {X_cv.shape}, {y_cv.shape}\")\n",
    "print(f\"Test set: {X_test.shape}, {y_test.shape}\")"
   ]
  },
  {
   "cell_type": "markdown",
   "metadata": {},
   "source": [
    "Build the neural network using Keras Dense layers"
   ]
  },
  {
   "cell_type": "code",
   "execution_count": 14,
   "metadata": {},
   "outputs": [
    {
     "name": "stdout",
     "output_type": "stream",
     "text": [
      "Model 1\n",
      "Test Loss: 0.3095, Test Accuracy: 0.8870\n"
     ]
    }
   ],
   "source": [
    "def create_model(lamba, layer_units, _epoch, _batchsize, modelName):\n",
    "\n",
    "    #initialize model\n",
    "    model = Sequential(\n",
    "        [tf.keras.Input(shape=(X_train.shape[1],)),],  \n",
    "    ) \n",
    "\n",
    "    for u in layer_units:\n",
    "        model.add(Dense(units=u, activation=\"relu\", kernel_regularizer=l2(lamba)))\n",
    "\n",
    "    model.add(Dense(units=1, activation=\"sigmoid\")) #output layer\n",
    "\n",
    "    model.compile(optimizer=Adam(learning_rate=0.001), loss='binary_crossentropy', metrics=['accuracy'])\n",
    "\n",
    "    modelHistory = model.fit(\n",
    "        X_train, y_train,\n",
    "        validation_data=(X_cv, y_cv),\n",
    "        epochs=_epoch,\n",
    "        batch_size=_batchsize,\n",
    "        verbose=0\n",
    "    )\n",
    "\n",
    "    test_loss, test_accuracy = model.evaluate(X_test, y_test, verbose=0)\n",
    "    print(f\"{modelName}\\nTest Loss: {test_loss:.4f}, Test Accuracy: {test_accuracy:.4f}\")\n",
    "\n",
    "    return model, modelHistory\n",
    "\n",
    "\n",
    "   \n",
    "\n",
    "model, modelHistory = create_model(0.001, [32,16, 8], 40, 16, \"Model 1\")\n"
   ]
  },
  {
   "cell_type": "markdown",
   "metadata": {},
   "source": [
    "Calculate F1, Precision, and Recall"
   ]
  },
  {
   "cell_type": "code",
   "execution_count": 15,
   "metadata": {},
   "outputs": [
    {
     "name": "stdout",
     "output_type": "stream",
     "text": [
      "\u001b[1m32/32\u001b[0m \u001b[32m━━━━━━━━━━━━━━━━━━━━\u001b[0m\u001b[37m\u001b[0m \u001b[1m0s\u001b[0m 1ms/step \n",
      "Precision: 0.6696\n",
      "Recall: 0.4967\n",
      "F1-Score: 0.5703\n"
     ]
    }
   ],
   "source": [
    "y_pred = model.predict(X_test)\n",
    "y_pred = (y_pred > 0.5).astype(int)  #convert probabilities to 0 or 1\n",
    "\n",
    "precision = precision_score(y_test, y_pred)\n",
    "recall = recall_score(y_test, y_pred)\n",
    "f1 = f1_score(y_test, y_pred)\n",
    "#----\n",
    "print(f\"Precision: {precision:.4f}\")\n",
    "print(f\"Recall: {recall:.4f}\")\n",
    "print(f\"F1-Score: {f1:.4f}\")"
   ]
  },
  {
   "cell_type": "markdown",
   "metadata": {},
   "source": [
    "Graph the loss on the training and test sets"
   ]
  },
  {
   "cell_type": "code",
   "execution_count": 16,
   "metadata": {},
   "outputs": [
    {
     "data": {
      "image/png": "[encoded data removed]",
      "text/plain": [
       "<Figure size 640x480 with 1 Axes>"
      ]
     },
     "metadata": {},
     "output_type": "display_data"
    }
   ],
   "source": [
    "test_loss, test_accuracy = model.evaluate(X_test, y_test, verbose=0)\n",
    "\n",
    "plt.plot(modelHistory.history['loss'], label='Training Loss')\n",
    "plt.plot(modelHistory.history['val_loss'], label='Validation Loss')\n",
    "\n",
    "plt.hlines(test_loss, xmin=0, xmax=len(modelHistory.history['loss'])-1, color='r', label=f'Test Loss: {test_loss:.4f}')\n",
    "\n",
    "plt.title('Training, Validation, and Test Loss')\n",
    "plt.xlabel('Epochs')\n",
    "plt.ylabel('Loss')\n",
    "plt.legend()\n",
    "plt.show()\n"
   ]
  }
 ],
 "metadata": {
  "kernelspec": {
   "display_name": "Python 3",
   "language": "python",
   "name": "python3"
  },
  "language_info": {
   "codemirror_mode": {
    "name": "ipython",
    "version": 3
   },
   "file_extension": ".py",
   "mimetype": "text/x-python",
   "name": "python",
   "nbconvert_exporter": "python",
   "pygments_lexer": "ipython3",
   "version": "3.12.3"
  }
 },
 "nbformat": 4,
 "nbformat_minor": 2
}
